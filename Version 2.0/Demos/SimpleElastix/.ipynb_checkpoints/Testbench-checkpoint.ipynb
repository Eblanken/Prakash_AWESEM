{
 "cells": [
  {
   "cell_type": "markdown",
   "metadata": {},
   "source": [
    "Verifies that all of the necessary packages have been insalled:"
   ]
  },
  {
   "cell_type": "code",
   "execution_count": null,
   "metadata": {},
   "outputs": [],
   "source": [
    "import importlib\n",
    "from distutils.version import LooseVersion\n",
    "\n",
    "# check that all packages are installed (see requirements.txt file)\n",
    "required_packages = {'jupyter', \n",
    "                     'numpy',\n",
    "                     'matplotlib',\n",
    "                     'ipywidgets',\n",
    "                     'scipy',\n",
    "                     'pandas',\n",
    "                     'SimpleITK'\n",
    "                    }\n",
    "\n",
    "problem_packages = list()\n",
    "# Iterate over the required packages: If the package is not installed\n",
    "# ignore the exception. \n",
    "for package in required_packages:\n",
    "    try:\n",
    "        p = importlib.import_module(package)        \n",
    "    except ImportError:\n",
    "        problem_packages.append(package)\n",
    "    \n",
    "if len(problem_packages) is 0:\n",
    "    print('All packages installed.')\n",
    "else:\n",
    "    print('The following packages are required but not installed: ' \\\n",
    "          + ', '.join(problem_packages))"
   ]
  }
 ],
 "metadata": {
  "kernelspec": {
   "display_name": "Python 3",
   "language": "python",
   "name": "python3"
  },
  "language_info": {
   "codemirror_mode": {
    "name": "ipython",
    "version": 3
   },
   "file_extension": ".py",
   "mimetype": "text/x-python",
   "name": "python",
   "nbconvert_exporter": "python",
   "pygments_lexer": "ipython3",
   "version": "3.6.5"
  }
 },
 "nbformat": 4,
 "nbformat_minor": 2
}
